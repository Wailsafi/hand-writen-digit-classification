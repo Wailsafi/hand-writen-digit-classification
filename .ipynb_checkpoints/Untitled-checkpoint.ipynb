{
 "cells": [
  {
   "cell_type": "code",
   "execution_count": 2,
   "id": "814ff5b2",
   "metadata": {},
   "outputs": [
    {
     "name": "stdout",
     "output_type": "stream",
     "text": [
      "WARNING:tensorflow:From C:\\Users\\netpc01\\anaconda3\\Lib\\site-packages\\keras\\src\\losses.py:2976: The name tf.losses.sparse_softmax_cross_entropy is deprecated. Please use tf.compat.v1.losses.sparse_softmax_cross_entropy instead.\n",
      "\n"
     ]
    },
    {
     "data": {
      "image/png": "[encoded data removed]",
      "text/plain": [
       "<Figure size 640x480 with 1 Axes>"
      ]
     },
     "metadata": {},
     "output_type": "display_data"
    },
    {
     "data": {
      "text/plain": [
       "<matplotlib.image.AxesImage at 0x29eb2ef6e10>"
      ]
     },
     "execution_count": 2,
     "metadata": {},
     "output_type": "execute_result"
    },
    {
     "data": {
      "image/png": "[encoded data removed]",
      "text/plain": [
       "<Figure size 640x480 with 1 Axes>"
      ]
     },
     "metadata": {},
     "output_type": "display_data"
    }
   ],
   "source": [
    "import cv2 as cv #import open cv library\n",
    "import numpy as np # numpy library \n",
    "import tensorflow as tf # tensorflow library \n",
    "import matplotlib.pyplot as plt# matplotlib library \n",
    "mnist=tf.keras.datasets.mnist   # import the MNIST  data set (ready data set of digits )\n",
    "(x_train,ytrain ),(x_test,y_test)=mnist.load_data()  # splitting the data into train and test \n",
    "plt.imshow(x_train[0])# testing the data by showing the image \n",
    "plt.show()\n",
    "\n",
    "plt.imshow(x_train[0] ,cmap= plt.cm.binary)# converting the data to gray image (binary )"
   ]
  },
  {
   "cell_type": "code",
   "execution_count": 3,
   "id": "8903c948",
   "metadata": {},
   "outputs": [
    {
     "data": {
      "text/plain": [
       "<matplotlib.image.AxesImage at 0x29ea1f68090>"
      ]
     },
     "execution_count": 3,
     "metadata": {},
     "output_type": "execute_result"
    },
    {
     "data": {
      "image/png": "[encoded data removed]",
      "text/plain": [
       "<Figure size 640x480 with 1 Axes>"
      ]
     },
     "metadata": {},
     "output_type": "display_data"
    }
   ],
   "source": [
    "x_train=tf.keras.utils.normalize(x_train, axis=1)# normalize the data (all the data xill be between the 0 and 1 )\n",
    "x_test= tf.keras.utils.normalize(x_test, axis=1)\n",
    "plt.imshow(x_train[0], cmap=plt.cm.binary)\n"
   ]
  },
  {
   "cell_type": "markdown",
   "id": "025ecc61",
   "metadata": {},
   "source": [
    "the image has now less entensity , this does not matter because we have all the data (all the bixels but with small values )"
   ]
  },
  {
   "cell_type": "code",
   "execution_count": 5,
   "id": "2157ed8a",
   "metadata": {},
   "outputs": [
    {
     "name": "stdout",
     "output_type": "stream",
     "text": [
      "Model: \"sequential_1\"\n",
      "_________________________________________________________________\n",
      " Layer (type)                Output Shape              Param #   \n",
      "=================================================================\n",
      " conv2d_3 (Conv2D)           (None, 26, 26, 64)        640       \n",
      "                                                                 \n",
      " activation_6 (Activation)   (None, 26, 26, 64)        0         \n",
      "                                                                 \n",
      " max_pooling2d_3 (MaxPoolin  (None, 13, 13, 64)        0         \n",
      " g2D)                                                            \n",
      "                                                                 \n",
      " conv2d_4 (Conv2D)           (None, 11, 11, 64)        36928     \n",
      "                                                                 \n",
      " activation_7 (Activation)   (None, 11, 11, 64)        0         \n",
      "                                                                 \n",
      " max_pooling2d_4 (MaxPoolin  (None, 5, 5, 64)          0         \n",
      " g2D)                                                            \n",
      "                                                                 \n",
      " conv2d_5 (Conv2D)           (None, 3, 3, 64)          36928     \n",
      "                                                                 \n",
      " activation_8 (Activation)   (None, 3, 3, 64)          0         \n",
      "                                                                 \n",
      " max_pooling2d_5 (MaxPoolin  (None, 1, 1, 64)          0         \n",
      " g2D)                                                            \n",
      "                                                                 \n",
      " flatten_1 (Flatten)         (None, 64)                0         \n",
      "                                                                 \n",
      " dense_3 (Dense)             (None, 64)                4160      \n",
      "                                                                 \n",
      " activation_9 (Activation)   (None, 64)                0         \n",
      "                                                                 \n",
      " dense_4 (Dense)             (None, 32)                2080      \n",
      "                                                                 \n",
      " activation_10 (Activation)  (None, 32)                0         \n",
      "                                                                 \n",
      " dense_5 (Dense)             (None, 10)                330       \n",
      "                                                                 \n",
      " activation_11 (Activation)  (None, 10)                0         \n",
      "                                                                 \n",
      "=================================================================\n",
      "Total params: 81066 (316.66 KB)\n",
      "Trainable params: 81066 (316.66 KB)\n",
      "Non-trainable params: 0 (0.00 Byte)\n",
      "_________________________________________________________________\n"
     ]
    }
   ],
   "source": [
    "\n",
    "IMG_SIZE=28;\n",
    "x_trainer=np.array(x_train).reshape(-1,IMG_SIZE, IMG_SIZE,1)\n",
    "x_testr=np.array(x_test).reshape(-1,IMG_SIZE, IMG_SIZE, 1)\n",
    "from tensorflow.keras.models  import  Sequential\n",
    "from tensorflow.keras.layers import Dense, Dropout, Activation, Flatten, Conv2D, MaxPooling2D\n",
    "model= Sequential()\n",
    "           # first conv \n",
    "model.add(Conv2D(64,(3,3), input_shape= x_trainer.shape[1:]))\n",
    "model.add(Activation(\"relu\"))\n",
    "model.add(MaxPooling2D(pool_size=(2,2)))\n",
    "          \n",
    "          #second conv \n",
    "model.add(Conv2D(64,(3,3), input_shape= x_trainer.shape[1:]))\n",
    "model.add(Activation('relu'))\n",
    "model.add(MaxPooling2D(pool_size=(2,2)))\n",
    "          ##third  conv layer \n",
    "model.add(Conv2D(64,(3,3), input_shape= x_trainer.shape[1:]))\n",
    "model.add(Activation('relu'))\n",
    "model.add(MaxPooling2D(pool_size=(2,2)))\n",
    "    ##\n",
    "model.add (Flatten())\n",
    "model.add(Dense(64))\n",
    "model.add(Activation('relu'))\n",
    "##\n",
    "model.add(Dense(32))\n",
    "model.add(Activation('relu'))\n",
    "model.add(Dense(10))\n",
    "model.add(Activation('softmax'))\n",
    "model.summary()\n",
    "          \n",
    "                   \n",
    "          \n"
   ]
  },
  {
   "cell_type": "raw",
   "id": "6a5f66e6",
   "metadata": {},
   "source": [
    "we can "
   ]
  },
  {
   "cell_type": "code",
   "execution_count": 6,
   "id": "4b1aebfd",
   "metadata": {},
   "outputs": [
    {
     "name": "stdout",
     "output_type": "stream",
     "text": [
      "WARNING:tensorflow:From C:\\Users\\netpc01\\anaconda3\\Lib\\site-packages\\keras\\src\\optimizers\\__init__.py:309: The name tf.train.Optimizer is deprecated. Please use tf.compat.v1.train.Optimizer instead.\n",
      "\n",
      "Epoch 1/5\n",
      "WARNING:tensorflow:From C:\\Users\\netpc01\\anaconda3\\Lib\\site-packages\\keras\\src\\utils\\tf_utils.py:492: The name tf.ragged.RaggedTensorValue is deprecated. Please use tf.compat.v1.ragged.RaggedTensorValue instead.\n",
      "\n",
      "WARNING:tensorflow:From C:\\Users\\netpc01\\anaconda3\\Lib\\site-packages\\keras\\src\\engine\\base_layer_utils.py:384: The name tf.executing_eagerly_outside_functions is deprecated. Please use tf.compat.v1.executing_eagerly_outside_functions instead.\n",
      "\n",
      "1313/1313 [==============================] - 26s 18ms/step - loss: 0.3275 - accuracy: 0.8972 - val_loss: 0.1028 - val_accuracy: 0.9691\n",
      "Epoch 2/5\n",
      "1313/1313 [==============================] - 24s 18ms/step - loss: 0.1054 - accuracy: 0.9682 - val_loss: 0.0976 - val_accuracy: 0.9718\n",
      "Epoch 3/5\n",
      "1313/1313 [==============================] - 25s 19ms/step - loss: 0.0727 - accuracy: 0.9777 - val_loss: 0.0797 - val_accuracy: 0.9759\n",
      "Epoch 4/5\n",
      "1313/1313 [==============================] - 24s 18ms/step - loss: 0.0572 - accuracy: 0.9813 - val_loss: 0.0816 - val_accuracy: 0.9746\n",
      "Epoch 5/5\n",
      "1313/1313 [==============================] - 24s 18ms/step - loss: 0.0472 - accuracy: 0.9854 - val_loss: 0.0655 - val_accuracy: 0.9807\n"
     ]
    },
    {
     "data": {
      "text/plain": [
       "<keras.src.callbacks.History at 0x29eafb34f90>"
      ]
     },
     "execution_count": 6,
     "metadata": {},
     "output_type": "execute_result"
    }
   ],
   "source": [
    "model.compile(loss=\"sparse_categorical_crossentropy\", optimizer=\"adam\", metrics=['accuracy'])\n",
    "model.fit(x_trainer, ytrain, epochs=5, validation_split=0.3)"
   ]
  },
  {
   "cell_type": "code",
   "execution_count": 33,
   "id": "cc99a569",
   "metadata": {},
   "outputs": [
    {
     "name": "stdout",
     "output_type": "stream",
     "text": [
      "1/1 [==============================] - 0s 150ms/step\n",
      "3\n",
      "(1, 28, 28)\n",
      "1/1 [==============================] - 0s 29ms/step\n",
      "3\n",
      "(1, 28, 28)\n",
      "1/1 [==============================] - 0s 29ms/step\n",
      "4\n",
      "(1, 28, 28)\n",
      "1/1 [==============================] - 0s 42ms/step\n",
      "8\n",
      "(1, 28, 28)\n",
      "1/1 [==============================] - 0s 33ms/step\n",
      "5\n",
      "(1, 28, 28)\n",
      "1/1 [==============================] - 0s 22ms/step\n",
      "0\n",
      "(1, 28, 28)\n"
     ]
    },
    {
     "data": {
      "image/png": "[encoded data removed]",
      "text/plain": [
       "<Figure size 640x480 with 1 Axes>"
      ]
     },
     "metadata": {},
     "output_type": "display_data"
    }
   ],
   "source": [
    "for x in range(2,7):\n",
    "    img=cv.imread(f'{x}.png')[:, :,0]\n",
    "    img=np.invert(np.array([img]))\n",
    "    img=tf.keras.utils.normalize(img, axis=1)\n",
    "    prediction =model.predict(img)\n",
    "\n",
    "    print(np.argmax(prediction))\n",
    "    print(img.shape)\n",
    "    plt.imshow(img[0], cmap=plt.cm.binary)"
   ]
  },
  {
   "cell_type": "code",
   "execution_count": 34,
   "id": "90834baa",
   "metadata": {},
   "outputs": [
    {
     "name": "stdout",
     "output_type": "stream",
     "text": [
      "313/313 [==============================] - 2s 6ms/step - loss: 0.0636 - accuracy: 0.9816\n"
     ]
    }
   ],
   "source": [
    "\n",
    "loss,accuracy=model.evaluate(x_testr , y_test )"
   ]
  },
  {
   "cell_type": "code",
   "execution_count": 61,
   "id": "3b7ae1aa",
   "metadata": {},
   "outputs": [
    {
     "data": {
      "text/plain": [
       "(4624, 3472, 3)"
      ]
     },
     "execution_count": 61,
     "metadata": {},
     "output_type": "execute_result"
    }
   ],
   "source": [
    " img=cv.imread('8.jpg')\n",
    "\n",
    " img.shape"
   ]
  },
  {
   "cell_type": "code",
   "execution_count": 62,
   "id": "91079233",
   "metadata": {},
   "outputs": [
    {
     "data": {
      "text/plain": [
       "(4624, 3472)"
      ]
     },
     "execution_count": 62,
     "metadata": {},
     "output_type": "execute_result"
    }
   ],
   "source": [
    "\n",
    "gray=cv.cvtColor(img,cv.COLOR_BGR2GRAY)\n",
    "gray.shape\n"
   ]
  },
  {
   "cell_type": "code",
   "execution_count": 63,
   "id": "b745d32b",
   "metadata": {},
   "outputs": [
    {
     "data": {
      "text/plain": [
       "(28, 28)"
      ]
     },
     "execution_count": 63,
     "metadata": {},
     "output_type": "execute_result"
    }
   ],
   "source": [
    "resized=cv.resize(gray,(28,28), interpolation=cv.INTER_AREA)\n",
    "resized.shape"
   ]
  },
  {
   "cell_type": "code",
   "execution_count": 64,
   "id": "bc0ba2bb",
   "metadata": {},
   "outputs": [],
   "source": [
    "img=np.invert(np.array([resized]))"
   ]
  },
  {
   "cell_type": "code",
   "execution_count": 54,
   "id": "1b1cdd68",
   "metadata": {},
   "outputs": [
    {
     "data": {
      "text/plain": [
       "<matplotlib.image.AxesImage at 0x29e800e7810>"
      ]
     },
     "execution_count": 54,
     "metadata": {},
     "output_type": "execute_result"
    },
    {
     "data": {
      "image/png": "[encoded data removed]",
      "text/plain": [
       "<Figure size 640x480 with 1 Axes>"
      ]
     },
     "metadata": {},
     "output_type": "display_data"
    }
   ],
   "source": [
    " plt.imshow(img[0], cmap=plt.cm.binary)\n",
    "    "
   ]
  },
  {
   "cell_type": "code",
   "execution_count": 66,
   "id": "e005d06b",
   "metadata": {},
   "outputs": [
    {
     "name": "stdout",
     "output_type": "stream",
     "text": [
      "1/1 [==============================] - 0s 47ms/step\n"
     ]
    },
    {
     "data": {
      "text/plain": [
       "array([[0.2914341 , 0.09301182, 0.09316013, 0.04411334, 0.04010222,\n",
       "        0.01315198, 0.37791526, 0.01562084, 0.01531803, 0.01617221]],\n",
       "      dtype=float32)"
      ]
     },
     "metadata": {},
     "output_type": "display_data"
    },
    {
     "name": "stdout",
     "output_type": "stream",
     "text": [
      "6\n"
     ]
    },
    {
     "data": {
      "image/png": "[encoded data removed]",
      "text/plain": [
       "<Figure size 640x480 with 1 Axes>"
      ]
     },
     "metadata": {},
     "output_type": "display_data"
    }
   ],
   "source": [
    "img=tf.keras.utils.normalize(img, axis=1) \n",
    "plt.imshow(img[0], cmap=plt.cm.binary)\n",
    "prediction =model.predict(img)\n",
    "#display(prediction)\n",
    "print(np.argmax(prediction))"
   ]
  },
  {
   "cell_type": "code",
   "execution_count": null,
   "id": "71b61082",
   "metadata": {},
   "outputs": [],
   "source": []
  }
 ],
 "metadata": {
  "kernelspec": {
   "display_name": "Python 3 (ipykernel)",
   "language": "python",
   "name": "python3"
  },
  "language_info": {
   "codemirror_mode": {
    "name": "ipython",
    "version": 3
   },
   "file_extension": ".py",
   "mimetype": "text/x-python",
   "name": "python",
   "nbconvert_exporter": "python",
   "pygments_lexer": "ipython3",
   "version": "3.11.5"
  }
 },
 "nbformat": 4,
 "nbformat_minor": 5
}
